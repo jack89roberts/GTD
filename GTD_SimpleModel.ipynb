{
 "cells": [
  {
   "cell_type": "code",
   "execution_count": null,
   "metadata": {
    "collapsed": true
   },
   "outputs": [],
   "source": [
    "# Imports\n",
    "import pandas as pd\n",
    "import numpy as np\n",
    "import matplotlib.pyplot as plt\n",
    "%matplotlib inline\n",
    "\n",
    "# columns of interest\n",
    "cols_to_extract = ['eventid','imonth', 'iyear','iday',\n",
    " 'region_txt','country_txt','provstate','city',\n",
    " 'gname',\n",
    " 'attacktype1_txt',\n",
    " 'success','suicide',\n",
    " 'weaptype1_txt',\n",
    " 'targtype1_txt',\n",
    " 'individual','nperps',\n",
    " 'claimed',\n",
    " 'nkill','nwound',\n",
    " 'property','propextent_txt',\n",
    " 'ishostkid','hostkidoutcome_txt','ransom']\n",
    "\n",
    "# Load data\n",
    "df = pd.read_excel('GTD_0617dist/globalterrorismdb_0617dist.xlsx',\n",
    "                   usecols=cols_to_extract,\n",
    "                   na_values = ['Unknown','-99','-9','Not Applicable'])\n",
    "\n",
    "# replace some values not correctly dealt with by pandas import\n",
    "df.replace(-9,np.nan,inplace=True)\n",
    "df.replace(-99,np.nan,inplace=True)\n",
    "\n",
    "# entries without month or day - treat as 1st January\n",
    "df['imonth'].replace(0,1,inplace=True)\n",
    "df['iday'].replace(0,1,inplace=True)\n",
    "\n",
    "# create a date column, then get rid of the seaparte year, month and day columns\n",
    "df['date']=pd.to_datetime(dict(year=df.iyear, month=df.imonth, day=df.iday)) \n",
    "df.rename(columns={'iyear':'year'}, inplace=True)\n",
    "df.drop(['imonth','iday'],axis=1,inplace=True)\n",
    "\n",
    "# set date as the index\n",
    "df.set_index('date',inplace=True)\n",
    "print('Done!')"
   ]
  },
  {
   "cell_type": "code",
   "execution_count": null,
   "metadata": {
    "collapsed": true
   },
   "outputs": [],
   "source": [
    "df.head()"
   ]
  }
 ],
 "metadata": {
  "kernelspec": {
   "display_name": "Python 3",
   "language": "python",
   "name": "python3"
  },
  "language_info": {
   "codemirror_mode": {
    "name": "ipython",
    "version": 3
   },
   "file_extension": ".py",
   "mimetype": "text/x-python",
   "name": "python",
   "nbconvert_exporter": "python",
   "pygments_lexer": "ipython3",
   "version": "3.6.3"
  }
 },
 "nbformat": 4,
 "nbformat_minor": 2
}
