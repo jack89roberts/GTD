{
 "cells": [
  {
   "cell_type": "code",
   "execution_count": 1,
   "metadata": {},
   "outputs": [
    {
     "name": "stdout",
     "output_type": "stream",
     "text": [
      "<class 'pandas.core.frame.DataFrame'>\n",
      "Int64Index: 170350 entries, 197000000001 to 201701270001\n",
      "Columns: 134 entries, iyear to related\n",
      "dtypes: datetime64[ns](1), float64(53), int64(23), object(57)\n",
      "memory usage: 175.5+ MB\n"
     ]
    }
   ],
   "source": [
    "# Load data\n",
    "import pandas as pd\n",
    "import numpy as np\n",
    "import seaborn as sns\n",
    "\n",
    "df = pd.read_excel('GTD_0617dist/globalterrorismdb_0617dist.xlsx',\n",
    "                   index_col=0,na_values = ['Unknown','-99','-9','Not Applicable'])\n",
    "df.info()"
   ]
  },
  {
   "cell_type": "code",
   "execution_count": 2,
   "metadata": {},
   "outputs": [],
   "source": [
    "# create a date column, then get rid of the seaparte year, month and day columns\n",
    "# entries without month or day - treat as 1st January\n",
    "df['imonth'].replace(0,1,inplace=True)\n",
    "df['iday'].replace(0,1,inplace=True)\n",
    "\n",
    "# replace some values not correctly dealt with by pandas import\n",
    "df.replace(-9,np.nan,inplace=True)\n",
    "df.replace(-99,np.nan,inplace=True)\n",
    "\n",
    "df['iyear']=pd.to_datetime(dict(year=df.iyear, month=df.imonth, day=df.iday)) \n",
    "df.rename(columns={'iyear':'date'}, inplace=True)\n",
    "\n",
    "# extract columns of interest\n",
    "cols_to_extract = ['date',\n",
    " 'country_txt','region_txt','provstate','city','latitude','longitude',\n",
    " 'crit1','crit2','crit3',\n",
    " 'attacktype1_txt','attacktype2_txt','attacktype3_txt',\n",
    " 'success','suicide',\n",
    " 'weaptype1_txt','weapsubtype1_txt','weaptype2_txt','weapsubtype2_txt','weaptype3_txt','weapsubtype3_txt','weaptype4_txt','weapsubtype4_txt',\n",
    " 'targtype1_txt','targsubtype1_txt','corp1','target1','natlty1_txt',\n",
    " 'targtype2_txt','targsubtype2_txt','corp2','target2','natlty2_txt',\n",
    " 'targtype3_txt','targsubtype3_txt','corp3','target3','natlty3_txt',\n",
    " 'gname','gsubname','gname2','gsubname2','gname3','gsubname3',\n",
    " 'individual','nperps','nperpcap',\n",
    " 'claimed','claim2','claim3',\n",
    " 'nkill','nkillter','nwound','nwoundte',\n",
    " 'property','propextent_txt','propvalue',\n",
    " 'ishostkid','nhostkid','nhours','ndays','kidhijcountry',\n",
    " 'ransom','ransomamt','ransompaid','hostkidoutcome_txt','nreleased']\n",
    "\n",
    "df = df[cols_to_extract]"
   ]
  },
  {
   "cell_type": "code",
   "execution_count": 3,
   "metadata": {
    "scrolled": true
   },
   "outputs": [
    {
     "name": "stdout",
     "output_type": "stream",
     "text": [
      "============= date =============\n"
     ]
    },
    {
     "data": {
      "text/plain": [
       "2016-09-21    129\n",
       "2016-12-01    100\n",
       "2014-06-14     96\n",
       "2016-08-08     90\n",
       "2013-10-09     89\n",
       "Name: date, dtype: int64"
      ]
     },
     "metadata": {},
     "output_type": "display_data"
    },
    {
     "name": "stdout",
     "output_type": "stream",
     "text": [
      "============= country_txt =============\n"
     ]
    },
    {
     "data": {
      "text/plain": [
       "Iraq           22130\n",
       "Pakistan       13634\n",
       "Afghanistan    11306\n",
       "India          10978\n",
       "Colombia        8163\n",
       "Name: country_txt, dtype: int64"
      ]
     },
     "metadata": {},
     "output_type": "display_data"
    },
    {
     "name": "stdout",
     "output_type": "stream",
     "text": [
      "============= region_txt =============\n"
     ]
    },
    {
     "data": {
      "text/plain": [
       "Middle East & North Africa    46511\n",
       "South Asia                    41497\n",
       "South America                 18762\n",
       "Western Europe                16307\n",
       "Sub-Saharan Africa            15491\n",
       "Name: region_txt, dtype: int64"
      ]
     },
     "metadata": {},
     "output_type": "display_data"
    },
    {
     "name": "stdout",
     "output_type": "stream",
     "text": [
      "============= provstate =============\n"
     ]
    },
    {
     "data": {
      "text/plain": [
       "Baghdad             7238\n",
       "Northern Ireland    4405\n",
       "Balochistan         3377\n",
       "Sindh               3146\n",
       "Saladin             3103\n",
       "Name: provstate, dtype: int64"
      ]
     },
     "metadata": {},
     "output_type": "display_data"
    },
    {
     "name": "stdout",
     "output_type": "stream",
     "text": [
      "============= city =============\n"
     ]
    },
    {
     "data": {
      "text/plain": [
       "Baghdad    7206\n",
       "Karachi    2609\n",
       "Lima       2358\n",
       "Belfast    2140\n",
       "Mosul      1775\n",
       "Name: city, dtype: int64"
      ]
     },
     "metadata": {},
     "output_type": "display_data"
    },
    {
     "name": "stdout",
     "output_type": "stream",
     "text": [
      "============= latitude =============\n"
     ]
    },
    {
     "data": {
      "text/plain": [
       " 33.300000    2240\n",
       "-12.046378    2234\n",
       " 54.597269    1949\n",
       " 13.692880    1559\n",
       "-33.469115    1519\n",
       "Name: latitude, dtype: int64"
      ]
     },
     "metadata": {},
     "output_type": "display_data"
    },
    {
     "name": "stdout",
     "output_type": "stream",
     "text": [
      "============= longitude =============\n"
     ]
    },
    {
     "data": {
      "text/plain": [
       "-77.042791    2234\n",
       " 44.400000    2211\n",
       "-5.930109     1948\n",
       "-89.199161    1559\n",
       "-70.641997    1522\n",
       "Name: longitude, dtype: int64"
      ]
     },
     "metadata": {},
     "output_type": "display_data"
    },
    {
     "name": "stdout",
     "output_type": "stream",
     "text": [
      "============= crit1 =============\n"
     ]
    },
    {
     "data": {
      "text/plain": [
       "1    168381\n",
       "0      1969\n",
       "Name: crit1, dtype: int64"
      ]
     },
     "metadata": {},
     "output_type": "display_data"
    },
    {
     "name": "stdout",
     "output_type": "stream",
     "text": [
      "============= crit2 =============\n"
     ]
    },
    {
     "data": {
      "text/plain": [
       "1    169155\n",
       "0      1195\n",
       "Name: crit2, dtype: int64"
      ]
     },
     "metadata": {},
     "output_type": "display_data"
    },
    {
     "name": "stdout",
     "output_type": "stream",
     "text": [
      "============= crit3 =============\n"
     ]
    },
    {
     "data": {
      "text/plain": [
       "1    149877\n",
       "0     20473\n",
       "Name: crit3, dtype: int64"
      ]
     },
     "metadata": {},
     "output_type": "display_data"
    },
    {
     "name": "stdout",
     "output_type": "stream",
     "text": [
      "============= attacktype1_txt =============\n"
     ]
    },
    {
     "data": {
      "text/plain": [
       "Bombing/Explosion                 83073\n",
       "Armed Assault                     40223\n",
       "Assassination                     18402\n",
       "Hostage Taking (Kidnapping)       10233\n",
       "Facility/Infrastructure Attack     9581\n",
       "Name: attacktype1_txt, dtype: int64"
      ]
     },
     "metadata": {},
     "output_type": "display_data"
    },
    {
     "name": "stdout",
     "output_type": "stream",
     "text": [
      "============= attacktype2_txt =============\n"
     ]
    },
    {
     "data": {
      "text/plain": [
       "Armed Assault                     3056\n",
       "Facility/Infrastructure Attack    1371\n",
       "Bombing/Explosion                  485\n",
       "Hostage Taking (Kidnapping)        479\n",
       "Assassination                      161\n",
       "Name: attacktype2_txt, dtype: int64"
      ]
     },
     "metadata": {},
     "output_type": "display_data"
    },
    {
     "name": "stdout",
     "output_type": "stream",
     "text": [
      "============= attacktype3_txt =============\n"
     ]
    },
    {
     "data": {
      "text/plain": [
       "Facility/Infrastructure Attack    185\n",
       "Armed Assault                     110\n",
       "Hostage Taking (Kidnapping)        53\n",
       "Bombing/Explosion                  16\n",
       "Hijacking                           4\n",
       "Name: attacktype3_txt, dtype: int64"
      ]
     },
     "metadata": {},
     "output_type": "display_data"
    },
    {
     "name": "stdout",
     "output_type": "stream",
     "text": [
      "============= success =============\n"
     ]
    },
    {
     "data": {
      "text/plain": [
       "1    152701\n",
       "0     17649\n",
       "Name: success, dtype: int64"
      ]
     },
     "metadata": {},
     "output_type": "display_data"
    },
    {
     "name": "stdout",
     "output_type": "stream",
     "text": [
      "============= suicide =============\n"
     ]
    },
    {
     "data": {
      "text/plain": [
       "0    164580\n",
       "1      5770\n",
       "Name: suicide, dtype: int64"
      ]
     },
     "metadata": {},
     "output_type": "display_data"
    },
    {
     "name": "stdout",
     "output_type": "stream",
     "text": [
      "============= weaptype1_txt =============\n"
     ]
    },
    {
     "data": {
      "text/plain": [
       "Explosives/Bombs/Dynamite    86704\n",
       "Firearms                     55273\n",
       "Incendiary                   10459\n",
       "Melee                         3338\n",
       "Chemical                       293\n",
       "Name: weaptype1_txt, dtype: int64"
      ]
     },
     "metadata": {},
     "output_type": "display_data"
    },
    {
     "name": "stdout",
     "output_type": "stream",
     "text": [
      "============= weapsubtype1_txt =============\n"
     ]
    },
    {
     "data": {
      "text/plain": [
       "Unknown Explosive Type                       42897\n",
       "Unknown Gun Type                             30497\n",
       "Automatic Weapon                             17140\n",
       "Vehicle                                       9210\n",
       "Projectile (rockets, mortars, RPGs, etc.)     9183\n",
       "Name: weapsubtype1_txt, dtype: int64"
      ]
     },
     "metadata": {},
     "output_type": "display_data"
    },
    {
     "name": "stdout",
     "output_type": "stream",
     "text": [
      "============= weaptype2_txt =============\n"
     ]
    },
    {
     "data": {
      "text/plain": [
       "Firearms                     4778\n",
       "Explosives/Bombs/Dynamite    2763\n",
       "Incendiary                   2084\n",
       "Melee                        1274\n",
       "Other                         107\n",
       "Name: weaptype2_txt, dtype: int64"
      ]
     },
     "metadata": {},
     "output_type": "display_data"
    },
    {
     "name": "stdout",
     "output_type": "stream",
     "text": [
      "============= weapsubtype2_txt =============\n"
     ]
    },
    {
     "data": {
      "text/plain": [
       "Unknown Gun Type               2362\n",
       "Automatic Weapon               1643\n",
       "Arson/Fire                     1325\n",
       "Unknown Explosive Type          996\n",
       "Knife or Other Sharp Object     795\n",
       "Name: weapsubtype2_txt, dtype: int64"
      ]
     },
     "metadata": {},
     "output_type": "display_data"
    },
    {
     "name": "stdout",
     "output_type": "stream",
     "text": [
      "============= weaptype3_txt =============\n"
     ]
    },
    {
     "data": {
      "text/plain": [
       "Firearms                     722\n",
       "Incendiary                   311\n",
       "Melee                        303\n",
       "Explosives/Bombs/Dynamite    199\n",
       "Other                         35\n",
       "Name: weaptype3_txt, dtype: int64"
      ]
     },
     "metadata": {},
     "output_type": "display_data"
    },
    {
     "name": "stdout",
     "output_type": "stream",
     "text": [
      "============= weapsubtype3_txt =============\n"
     ]
    },
    {
     "data": {
      "text/plain": [
       "Unknown Gun Type               275\n",
       "Automatic Weapon               263\n",
       "Knife or Other Sharp Object    214\n",
       "Arson/Fire                     156\n",
       "Handgun                         90\n",
       "Name: weapsubtype3_txt, dtype: int64"
      ]
     },
     "metadata": {},
     "output_type": "display_data"
    },
    {
     "name": "stdout",
     "output_type": "stream",
     "text": [
      "============= weaptype4_txt =============\n"
     ]
    },
    {
     "data": {
      "text/plain": [
       "Firearms                     29\n",
       "Explosives/Bombs/Dynamite    27\n",
       "Incendiary                   10\n",
       "Melee                         7\n",
       "Other                         1\n",
       "Name: weaptype4_txt, dtype: int64"
      ]
     },
     "metadata": {},
     "output_type": "display_data"
    },
    {
     "name": "stdout",
     "output_type": "stream",
     "text": [
      "============= weapsubtype4_txt =============\n"
     ]
    },
    {
     "data": {
      "text/plain": [
       "Automatic Weapon                             16\n",
       "Unknown Explosive Type                       11\n",
       "Projectile (rockets, mortars, RPGs, etc.)     7\n",
       "Unknown Gun Type                              6\n",
       "Grenade                                       6\n",
       "Name: weapsubtype4_txt, dtype: int64"
      ]
     },
     "metadata": {},
     "output_type": "display_data"
    },
    {
     "name": "stdout",
     "output_type": "stream",
     "text": [
      "============= targtype1_txt =============\n"
     ]
    },
    {
     "data": {
      "text/plain": [
       "Private Citizens & Property    39994\n",
       "Military                       25508\n",
       "Police                         22938\n",
       "Government (General)           20314\n",
       "Business                       19873\n",
       "Name: targtype1_txt, dtype: int64"
      ]
     },
     "metadata": {},
     "output_type": "display_data"
    },
    {
     "name": "stdout",
     "output_type": "stream",
     "text": [
      "============= targsubtype1_txt =============\n"
     ]
    },
    {
     "data": {
      "text/plain": [
       "Unnamed Civilian/Unspecified                               10842\n",
       "Police Security Forces/Officers                            10625\n",
       "Military Unit/Patrol/Convoy                                 7881\n",
       "Military Personnel (soldiers, troops, officers, forces)     7184\n",
       "Government Personnel (excluding police, military)           6288\n",
       "Name: targsubtype1_txt, dtype: int64"
      ]
     },
     "metadata": {},
     "output_type": "display_data"
    },
    {
     "name": "stdout",
     "output_type": "stream",
     "text": [
      "============= corp1 =============\n"
     ]
    },
    {
     "data": {
      "text/plain": [
       "Iraqi Police Service (IPS)    3182\n",
       "Govt                          2786\n",
       "Civilians                     2783\n",
       "Police                        2571\n",
       "Military                      2118\n",
       "Name: corp1, dtype: int64"
      ]
     },
     "metadata": {},
     "output_type": "display_data"
    },
    {
     "name": "stdout",
     "output_type": "stream",
     "text": [
      "============= target1 =============\n"
     ]
    },
    {
     "data": {
      "text/plain": [
       "Civilians     5810\n",
       "Soldiers      2688\n",
       "Patrol        2616\n",
       "Checkpoint    2562\n",
       "Vehicle       2397\n",
       "Name: target1, dtype: int64"
      ]
     },
     "metadata": {},
     "output_type": "display_data"
    },
    {
     "name": "stdout",
     "output_type": "stream",
     "text": [
      "============= natlty1_txt =============\n"
     ]
    },
    {
     "data": {
      "text/plain": [
       "Iraq           21625\n",
       "Pakistan       13168\n",
       "India          11110\n",
       "Afghanistan     9669\n",
       "Colombia        7783\n",
       "Name: natlty1_txt, dtype: int64"
      ]
     },
     "metadata": {},
     "output_type": "display_data"
    },
    {
     "name": "stdout",
     "output_type": "stream",
     "text": [
      "============= targtype2_txt =============\n"
     ]
    },
    {
     "data": {
      "text/plain": [
       "Private Citizens & Property    4937\n",
       "Military                       1123\n",
       "Police                         1012\n",
       "Business                        812\n",
       "Government (General)            457\n",
       "Name: targtype2_txt, dtype: int64"
      ]
     },
     "metadata": {},
     "output_type": "display_data"
    },
    {
     "name": "stdout",
     "output_type": "stream",
     "text": [
      "============= targsubtype2_txt =============\n"
     ]
    },
    {
     "data": {
      "text/plain": [
       "Judge/Attorney/Court               2981\n",
       "Unnamed Civilian/Unspecified        990\n",
       "Multinational Corporation           738\n",
       "Bank/Commerce                       471\n",
       "Police Security Forces/Officers     457\n",
       "Name: targsubtype2_txt, dtype: int64"
      ]
     },
     "metadata": {},
     "output_type": "display_data"
    },
    {
     "name": "stdout",
     "output_type": "stream",
     "text": [
      "============= corp2 =============\n"
     ]
    },
    {
     "data": {
      "text/plain": [
       "Civilians                     708\n",
       "Iraqi Volunteer Forces        157\n",
       "Somali National Army (SNA)    110\n",
       "Afghan Police                  84\n",
       "Civilian                       80\n",
       "Name: corp2, dtype: int64"
      ]
     },
     "metadata": {},
     "output_type": "display_data"
    },
    {
     "name": "stdout",
     "output_type": "stream",
     "text": [
      "============= target2 =============\n"
     ]
    },
    {
     "data": {
      "text/plain": [
       "Civilians    2044\n",
       "Soldiers      240\n",
       "Civilian      232\n",
       "Members       222\n",
       "Officers      168\n",
       "Name: target2, dtype: int64"
      ]
     },
     "metadata": {},
     "output_type": "display_data"
    },
    {
     "name": "stdout",
     "output_type": "stream",
     "text": [
      "============= natlty2_txt =============\n"
     ]
    },
    {
     "data": {
      "text/plain": [
       "Iraq           1647\n",
       "Afghanistan    1213\n",
       "Pakistan        682\n",
       "India           583\n",
       "Somalia         525\n",
       "Name: natlty2_txt, dtype: int64"
      ]
     },
     "metadata": {},
     "output_type": "display_data"
    },
    {
     "name": "stdout",
     "output_type": "stream",
     "text": [
      "============= targtype3_txt =============\n"
     ]
    },
    {
     "data": {
      "text/plain": [
       "Private Citizens & Property    467\n",
       "Business                       110\n",
       "Police                          93\n",
       "Military                        79\n",
       "Government (General)            74\n",
       "Name: targtype3_txt, dtype: int64"
      ]
     },
     "metadata": {},
     "output_type": "display_data"
    },
    {
     "name": "stdout",
     "output_type": "stream",
     "text": [
      "============= targsubtype3_txt =============\n"
     ]
    },
    {
     "data": {
      "text/plain": [
       "Unnamed Civilian/Unspecified                               273\n",
       "Police Security Forces/Officers                             73\n",
       "Military Personnel (soldiers, troops, officers, forces)     53\n",
       "Laborer (General)/Occupation Identified                     45\n",
       "House/Apartment/Residence                                   39\n",
       "Name: targsubtype3_txt, dtype: int64"
      ]
     },
     "metadata": {},
     "output_type": "display_data"
    },
    {
     "name": "stdout",
     "output_type": "stream",
     "text": [
      "============= corp3 =============\n"
     ]
    },
    {
     "data": {
      "text/plain": [
       "Civilians                           75\n",
       "Christian Religious Denomination    25\n",
       "Civilian                            10\n",
       "Afghan Police                        8\n",
       "Etisalat                             6\n",
       "Name: corp3, dtype: int64"
      ]
     },
     "metadata": {},
     "output_type": "display_data"
    },
    {
     "name": "stdout",
     "output_type": "stream",
     "text": [
      "============= target3 =============\n"
     ]
    },
    {
     "data": {
      "text/plain": [
       "Civilians      160\n",
       "1 orphanage     25\n",
       "Members         22\n",
       "Civilian        16\n",
       "Soldiers        15\n",
       "Name: target3, dtype: int64"
      ]
     },
     "metadata": {},
     "output_type": "display_data"
    },
    {
     "name": "stdout",
     "output_type": "stream",
     "text": [
      "============= natlty3_txt =============\n"
     ]
    },
    {
     "data": {
      "text/plain": [
       "Iraq           124\n",
       "Afghanistan    108\n",
       "Pakistan        51\n",
       "India           50\n",
       "Colombia        47\n",
       "Name: natlty3_txt, dtype: int64"
      ]
     },
     "metadata": {},
     "output_type": "display_data"
    },
    {
     "name": "stdout",
     "output_type": "stream",
     "text": [
      "============= gname =============\n"
     ]
    },
    {
     "data": {
      "text/plain": [
       "Taliban                                             6575\n",
       "Shining Path (SL)                                   4551\n",
       "Islamic State of Iraq and the Levant (ISIL)         4287\n",
       "Farabundo Marti National Liberation Front (FMLN)    3351\n",
       "Al-Shabaab                                          2683\n",
       "Name: gname, dtype: int64"
      ]
     },
     "metadata": {},
     "output_type": "display_data"
    },
    {
     "name": "stdout",
     "output_type": "stream",
     "text": [
      "============= gsubname =============\n"
     ]
    },
    {
     "data": {
      "text/plain": [
       "Militants                           480\n",
       "People's Liberation Forces (FPL)    427\n",
       "Rebels                              163\n",
       "Separatists                         120\n",
       "Guerrillas                          101\n",
       "Name: gsubname, dtype: int64"
      ]
     },
     "metadata": {},
     "output_type": "display_data"
    },
    {
     "name": "stdout",
     "output_type": "stream",
     "text": [
      "============= gname2 =============\n"
     ]
    },
    {
     "data": {
      "text/plain": [
       "Al-Nusrah Front                                56\n",
       "Badr Brigades                                  52\n",
       "National Liberation Army of Colombia (ELN)     48\n",
       "Islamic State of Iraq and the Levant (ISIL)    42\n",
       "Palestinian Islamic Jihad (PIJ)                37\n",
       "Name: gname2, dtype: int64"
      ]
     },
     "metadata": {},
     "output_type": "display_data"
    },
    {
     "name": "stdout",
     "output_type": "stream",
     "text": [
      "============= gsubname2 =============\n"
     ]
    },
    {
     "data": {
      "text/plain": [
       "The Family                                   20\n",
       "Intifadat Ahrar al-Iraq                      10\n",
       "al-Quds Brigades                             10\n",
       "Forces for the Defense of Democracy (FDD)     9\n",
       "Jamaat-ul-Ahrar                               8\n",
       "Name: gsubname2, dtype: int64"
      ]
     },
     "metadata": {},
     "output_type": "display_data"
    },
    {
     "name": "stdout",
     "output_type": "stream",
     "text": [
      "============= gname3 =============\n"
     ]
    },
    {
     "data": {
      "text/plain": [
       "National Democratic Alliance Army (NDAA-ESSA)    15\n",
       "Islamic State of Iraq and the Levant (ISIL)      14\n",
       "Free Syrian Army                                 13\n",
       "Lashkar-e-Taiba (LeT)                            13\n",
       "Al-Nusrah Front                                  11\n",
       "Name: gname3, dtype: int64"
      ]
     },
     "metadata": {},
     "output_type": "display_data"
    },
    {
     "name": "stdout",
     "output_type": "stream",
     "text": [
      "============= gsubname3 =============\n"
     ]
    },
    {
     "data": {
      "text/plain": [
       "Jaish al-Muhajireen wal-Ansar (Muhajireen Army)    1\n",
       "Ezzedine al-Qassam Brigades                        1\n",
       "Turkistan Islamic Party (Syria)                    1\n",
       "Al-Alami                                           1\n",
       "Al-Izzah; Jaish al-Tahrir                          1\n",
       "Name: gsubname3, dtype: int64"
      ]
     },
     "metadata": {},
     "output_type": "display_data"
    },
    {
     "name": "stdout",
     "output_type": "stream",
     "text": [
      "============= individual =============\n"
     ]
    },
    {
     "data": {
      "text/plain": [
       "0    169927\n",
       "1       423\n",
       "Name: individual, dtype: int64"
      ]
     },
     "metadata": {},
     "output_type": "display_data"
    },
    {
     "name": "stdout",
     "output_type": "stream",
     "text": [
      "============= nperps =============\n"
     ]
    },
    {
     "data": {
      "text/plain": [
       "1.0    7517\n",
       "2.0    5611\n",
       "3.0    2626\n",
       "4.0    2084\n",
       "5.0    1013\n",
       "Name: nperps, dtype: int64"
      ]
     },
     "metadata": {},
     "output_type": "display_data"
    },
    {
     "name": "stdout",
     "output_type": "stream",
     "text": [
      "============= nperpcap =============\n"
     ]
    },
    {
     "data": {
      "text/plain": [
       "0.0    95558\n",
       "1.0     1723\n",
       "2.0      723\n",
       "3.0      372\n",
       "4.0      255\n",
       "Name: nperpcap, dtype: int64"
      ]
     },
     "metadata": {},
     "output_type": "display_data"
    },
    {
     "name": "stdout",
     "output_type": "stream",
     "text": [
      "============= claimed =============\n"
     ]
    },
    {
     "data": {
      "text/plain": [
       "0.0    86578\n",
       "1.0    16164\n",
       "Name: claimed, dtype: int64"
      ]
     },
     "metadata": {},
     "output_type": "display_data"
    },
    {
     "name": "stdout",
     "output_type": "stream",
     "text": [
      "============= claim2 =============\n"
     ]
    },
    {
     "data": {
      "text/plain": [
       "0.0    1073\n",
       "1.0     528\n",
       "Name: claim2, dtype: int64"
      ]
     },
     "metadata": {},
     "output_type": "display_data"
    },
    {
     "name": "stdout",
     "output_type": "stream",
     "text": [
      "============= claim3 =============\n"
     ]
    },
    {
     "data": {
      "text/plain": [
       "0.0    145\n",
       "1.0    118\n",
       "Name: claim3, dtype: int64"
      ]
     },
     "metadata": {},
     "output_type": "display_data"
    },
    {
     "name": "stdout",
     "output_type": "stream",
     "text": [
      "============= nkill =============\n"
     ]
    },
    {
     "data": {
      "text/plain": [
       "0.0    82925\n",
       "1.0    34256\n",
       "2.0    13247\n",
       "3.0     7170\n",
       "4.0     4580\n",
       "Name: nkill, dtype: int64"
      ]
     },
     "metadata": {},
     "output_type": "display_data"
    },
    {
     "name": "stdout",
     "output_type": "stream",
     "text": [
      "============= nkillter =============\n"
     ]
    },
    {
     "data": {
      "text/plain": [
       "0.0    92301\n",
       "1.0     5931\n",
       "2.0     1630\n",
       "3.0      918\n",
       "4.0      572\n",
       "Name: nkillter, dtype: int64"
      ]
     },
     "metadata": {},
     "output_type": "display_data"
    },
    {
     "name": "stdout",
     "output_type": "stream",
     "text": [
      "============= nwound =============\n"
     ]
    },
    {
     "data": {
      "text/plain": [
       "0.0    97182\n",
       "1.0    14856\n",
       "2.0     9387\n",
       "3.0     6673\n",
       "4.0     4470\n",
       "Name: nwound, dtype: int64"
      ]
     },
     "metadata": {},
     "output_type": "display_data"
    },
    {
     "name": "stdout",
     "output_type": "stream",
     "text": [
      "============= nwoundte =============\n"
     ]
    },
    {
     "data": {
      "text/plain": [
       "0.0    99573\n",
       "1.0      770\n",
       "2.0      331\n",
       "3.0      221\n",
       "4.0      132\n",
       "Name: nwoundte, dtype: int64"
      ]
     },
     "metadata": {},
     "output_type": "display_data"
    },
    {
     "name": "stdout",
     "output_type": "stream",
     "text": [
      "============= property =============\n"
     ]
    },
    {
     "data": {
      "text/plain": [
       "1.0    90019\n",
       "0.0    60752\n",
       "Name: property, dtype: int64"
      ]
     },
     "metadata": {},
     "output_type": "display_data"
    },
    {
     "name": "stdout",
     "output_type": "stream",
     "text": [
      "============= propextent_txt =============\n"
     ]
    },
    {
     "data": {
      "text/plain": [
       "Minor (likely < $1 million)                     40569\n",
       "Major (likely > $1 million but < $1 billion)      904\n",
       "Catastrophic (likely > $1 billion)                  6\n",
       "Name: propextent_txt, dtype: int64"
      ]
     },
     "metadata": {},
     "output_type": "display_data"
    },
    {
     "name": "stdout",
     "output_type": "stream",
     "text": [
      "============= propvalue =============\n"
     ]
    },
    {
     "data": {
      "text/plain": [
       "50000.0    1185\n",
       "10000.0     804\n",
       "20000.0     756\n",
       "5000.0      578\n",
       "30000.0     556\n",
       "Name: propvalue, dtype: int64"
      ]
     },
     "metadata": {},
     "output_type": "display_data"
    },
    {
     "name": "stdout",
     "output_type": "stream",
     "text": [
      "============= ishostkid =============\n"
     ]
    },
    {
     "data": {
      "text/plain": [
       "0.0    157411\n",
       "1.0     12492\n",
       "Name: ishostkid, dtype: int64"
      ]
     },
     "metadata": {},
     "output_type": "display_data"
    },
    {
     "name": "stdout",
     "output_type": "stream",
     "text": [
      "============= nhostkid =============\n"
     ]
    },
    {
     "data": {
      "text/plain": [
       "1.0    5073\n",
       "2.0    1690\n",
       "3.0     945\n",
       "4.0     676\n",
       "5.0     426\n",
       "Name: nhostkid, dtype: int64"
      ]
     },
     "metadata": {},
     "output_type": "display_data"
    },
    {
     "name": "stdout",
     "output_type": "stream",
     "text": [
      "============= nhours =============\n"
     ]
    },
    {
     "data": {
      "text/plain": [
       "0.0    1293\n",
       "1.0     184\n",
       "2.0     101\n",
       "3.0      61\n",
       "4.0      43\n",
       "Name: nhours, dtype: int64"
      ]
     },
     "metadata": {},
     "output_type": "display_data"
    },
    {
     "name": "stdout",
     "output_type": "stream",
     "text": [
      "============= ndays =============\n"
     ]
    },
    {
     "data": {
      "text/plain": [
       "1.0    739\n",
       "2.0    405\n",
       "3.0    292\n",
       "0.0    225\n",
       "4.0    196\n",
       "Name: ndays, dtype: int64"
      ]
     },
     "metadata": {},
     "output_type": "display_data"
    },
    {
     "name": "stdout",
     "output_type": "stream",
     "text": [
      "============= kidhijcountry =============\n"
     ]
    },
    {
     "data": {
      "text/plain": [
       "Colombia       687\n",
       "Guatemala      204\n",
       "Philippines    183\n",
       "India          143\n",
       "Lebanon        139\n",
       "Name: kidhijcountry, dtype: int64"
      ]
     },
     "metadata": {},
     "output_type": "display_data"
    },
    {
     "name": "stdout",
     "output_type": "stream",
     "text": [
      "============= ransom =============\n"
     ]
    },
    {
     "data": {
      "text/plain": [
       "0.0    73726\n",
       "1.0     1229\n",
       "Name: ransom, dtype: int64"
      ]
     },
     "metadata": {},
     "output_type": "display_data"
    },
    {
     "name": "stdout",
     "output_type": "stream",
     "text": [
      "============= ransomamt =============\n"
     ]
    },
    {
     "data": {
      "text/plain": [
       "0.0          339\n",
       "1000000.0     30\n",
       "500000.0      23\n",
       "2000000.0     20\n",
       "5000000.0     18\n",
       "Name: ransomamt, dtype: int64"
      ]
     },
     "metadata": {},
     "output_type": "display_data"
    },
    {
     "name": "stdout",
     "output_type": "stream",
     "text": [
      "============= ransompaid =============\n"
     ]
    },
    {
     "data": {
      "text/plain": [
       "0.0          234\n",
       "1000000.0      7\n",
       "100000.0       6\n",
       "500000.0       5\n",
       "38500.0        5\n",
       "Name: ransompaid, dtype: int64"
      ]
     },
     "metadata": {},
     "output_type": "display_data"
    },
    {
     "name": "stdout",
     "output_type": "stream",
     "text": [
      "============= hostkidoutcome_txt =============\n"
     ]
    },
    {
     "data": {
      "text/plain": [
       "Hostage(s) released by perpetrators               2849\n",
       "Hostage(s) killed (not during rescue attempt)     2229\n",
       "Combination                                        906\n",
       "Successful Rescue                                  496\n",
       "Hostage(s) escaped (not during rescue attempt)     156\n",
       "Name: hostkidoutcome_txt, dtype: int64"
      ]
     },
     "metadata": {},
     "output_type": "display_data"
    },
    {
     "name": "stdout",
     "output_type": "stream",
     "text": [
      "============= nreleased =============\n"
     ]
    },
    {
     "data": {
      "text/plain": [
       "0.0    2018\n",
       "1.0    1926\n",
       "2.0     616\n",
       "3.0     350\n",
       "4.0     239\n",
       "Name: nreleased, dtype: int64"
      ]
     },
     "metadata": {},
     "output_type": "display_data"
    }
   ],
   "source": [
    "# look at the most common values in each column\n",
    "for column in df.columns:\n",
    "    print('=============',column,'=============')\n",
    "    display(df[column].value_counts().head())"
   ]
  },
  {
   "cell_type": "code",
   "execution_count": 4,
   "metadata": {},
   "outputs": [
    {
     "name": "stdout",
     "output_type": "stream",
     "text": [
      "There are 11864 rows which have duplicated information in other rows.\n"
     ]
    }
   ],
   "source": [
    "# Some rows are identical to each other.\n",
    "# E.g. 100 duplicates of GTD ID 201609210029. In this case seems to be\n",
    "# 100 separte incidents of an explosive being detonated in a civilian\n",
    "# house. So I will treat the duplicates as genuine.\n",
    "dups = df.duplicated(keep=False) # don't include GTD ID when testing duplicates\n",
    "print('There are',dups.sum(),'rows which have duplicated information in other rows.')"
   ]
  },
  {
   "cell_type": "code",
   "execution_count": 5,
   "metadata": {},
   "outputs": [
    {
     "data": {
      "image/png": "[encoded data removed]",
      "text/plain": [
       "<matplotlib.figure.Figure at 0x24f009fa3c8>"
      ]
     },
     "metadata": {},
     "output_type": "display_data"
    },
    {
     "data": {
      "image/png": "[encoded data removed]",
      "text/plain": [
       "<matplotlib.figure.Figure at 0x24f01490da0>"
      ]
     },
     "metadata": {},
     "output_type": "display_data"
    }
   ],
   "source": [
    "# Plot some basic stats\n",
    "# No. of incidents per region and over time\n",
    "\n",
    "import matplotlib.pyplot as plt\n",
    "%matplotlib inline\n",
    "\n",
    "plt.figure(figsize=(15,5))\n",
    "plt.subplot(1,2,1)\n",
    "df['region_txt'].value_counts().plot.bar(title='Incidents per Region')\n",
    "plt.ylabel('No. Incidents')\n",
    "\n",
    "plt.subplot(1,2,2)\n",
    "df['country_txt'].value_counts()[:20].plot.bar(title='Top 20 Countries with Most Incidents')\n",
    "plt.ylabel('No. Incidents')\n",
    "\n",
    "plt.figure(figsize=(15,5))\n",
    "attacks_month = df.resample('M',on='date')['date'].count().plot(title='No. Global Terrorism Incidents Per Month')\n",
    "plt.ylabel('No. Incidents');"
   ]
  },
  {
   "cell_type": "code",
   "execution_count": 93,
   "metadata": {},
   "outputs": [
    {
     "data": {
      "image/png": "[encoded data removed]",
      "text/plain": [
       "<matplotlib.figure.Figure at 0x24f4fdb89b0>"
      ]
     },
     "metadata": {},
     "output_type": "display_data"
    }
   ],
   "source": [
    "# Different groups\n",
    "\n",
    "# incidents per year for top 20 groups\n",
    "group_year = df.groupby([pd.Grouper(freq='A',key='date'),'gname'])['country_txt'].count()\n",
    "group_year = group_year.unstack('gname',fill_value=0)\n",
    "\n",
    "group_year.name = 'n_incidents'\n",
    "group_year.index = group_year.index.year\n",
    "group_year.index.name = 'year'\n",
    "\n",
    "year_range = list(np.arange(1989,2017))\n",
    "n_groups = 20\n",
    "plot_groups = group_year.loc[year_range].sum().sort_values(ascending=False)[:n_groups].index.tolist()\n",
    "plt.figure(figsize=(15,10))\n",
    "sns.heatmap(tmp[plot_groups].loc[year_range].T)\n",
    "plt.title('Heatmap of Incidents by Top 20 Groups: {} - {}'.format(min(year_range),max(year_range)));\n"
   ]
  }
 ],
 "metadata": {
  "kernelspec": {
   "display_name": "Python 3",
   "language": "python",
   "name": "python3"
  },
  "language_info": {
   "codemirror_mode": {
    "name": "ipython",
    "version": 3
   },
   "file_extension": ".py",
   "mimetype": "text/x-python",
   "name": "python",
   "nbconvert_exporter": "python",
   "pygments_lexer": "ipython3",
   "version": "3.6.3"
  }
 },
 "nbformat": 4,
 "nbformat_minor": 2
}
